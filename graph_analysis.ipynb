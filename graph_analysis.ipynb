{
 "cells": [
  {
   "cell_type": "markdown",
   "metadata": {},
   "source": [
    "# <b>Introduction<b>"
   ]
  },
  {
   "cell_type": "markdown",
   "metadata": {},
   "source": [
    "In this project, I classify Yelp round-10 review datasets. The reviews contain a lot of metadata that can be mined and used to infer meaning, business attributes, and sentiment. For simplicity, I classify the review comments into two class: either as positive or negative. Reviews that have star higher than three are regarded as positive while the reviews with star less than or equal to 3 are negative. Therefore, the problem is a supervised learning. To build and train the model, I first tokenize the text and convert them to sequences. Each review comment is limited to 50 words. As a result, short texts less than 50 words are padded with zeros, and long ones are truncated. After processing the review comments, I trained three model in three different ways: \n",
    "\n",
    "<li> Model-1: In this model, a neural network with LSTM and a single embedding layer were used. \n",
    "<li> Model-2: In Model-1, an extra 1D convolutional layer has been added on top of LSTM layer to reduce the training time.\n",
    "<li> Model-3:  In this model, I use the same network architecture as Model-2, but use the pre-trained glove 100 dimension word embeddings as initial input.\n",
    "\n",
    "Since there are about 1.6 million input comments, it takes a while to train the models. To reduce the training time step, I limit the training epoch to three. After three epochs, it is evident that Model-2 is better regarding both training time and validation accuracy."
   ]
  },
  {
   "cell_type": "markdown",
   "metadata": {},
   "source": [
    "## <b>Project Outline <b>\n",
    "\n",
    "In this project I will cover the follwouings :\n",
    "\n",
    "<li> Download data from yelp and process them\n",
    "<li> Build neural network with LSTM\n",
    "<li> Build neural network with LSTM and CNN\n",
    "<li> Use pre-trained GloVe word embeddings\n",
    "<li> Word Embeddings from Word2Vec"
   ]
  },
  {
   "cell_type": "code",
   "execution_count": null,
   "metadata": {},
   "outputs": [],
   "source": []
  },
  {
   "cell_type": "code",
   "execution_count": null,
   "metadata": {},
   "outputs": [],
   "source": []
  },
  {
   "cell_type": "code",
   "execution_count": null,
   "metadata": {},
   "outputs": [],
   "source": []
  },
  {
   "cell_type": "code",
   "execution_count": 107,
   "metadata": {},
   "outputs": [],
   "source": [
    "import warnings\n",
    "def warn(*arg, **kwarg):\n",
    "    pass\n",
    "warnings.warn = warn"
   ]
  },
  {
   "cell_type": "markdown",
   "metadata": {},
   "source": [
    "## <b>Import libraries<b>"
   ]
  },
  {
   "cell_type": "code",
   "execution_count": 1,
   "metadata": {},
   "outputs": [
    {
     "data": {
      "text/html": [
       "<script type=\"text/javascript\">window.PlotlyConfig = {MathJaxConfig: 'local'};</script><script type=\"text/javascript\">if (window.MathJax) {MathJax.Hub.Config({SVG: {font: \"STIX-Web\"}});}</script><script>requirejs.config({paths: { 'plotly': ['https://cdn.plot.ly/plotly-latest.min']},});if(!window._Plotly) {require(['plotly'],function(plotly) {window._Plotly=plotly;});}</script>"
      ],
      "text/vnd.plotly.v1+html": [
       "<script type=\"text/javascript\">window.PlotlyConfig = {MathJaxConfig: 'local'};</script><script type=\"text/javascript\">if (window.MathJax) {MathJax.Hub.Config({SVG: {font: \"STIX-Web\"}});}</script><script>requirejs.config({paths: { 'plotly': ['https://cdn.plot.ly/plotly-latest.min']},});if(!window._Plotly) {require(['plotly'],function(plotly) {window._Plotly=plotly;});}</script>"
      ]
     },
     "metadata": {},
     "output_type": "display_data"
    }
   ],
   "source": [
    "import numpy as np\n",
    "import pandas as pd\n",
    "\n",
    "# Other\n",
    "import re\n",
    "import string\n",
    "\n",
    "# NLTK\n",
    "import nltk\n",
    "from nltk.corpus import stopwords\n",
    "from nltk.stem import SnowballStemmer\n",
    "\n",
    "## Plot\n",
    "import plotly.offline as py\n",
    "import plotly.graph_objs as go\n",
    "py.init_notebook_mode(connected=True)\n",
    "import matplotlib as plt"
   ]
  },
  {
   "cell_type": "markdown",
   "metadata": {},
   "source": [
    "## <b> Data Processing<b>"
   ]
  },
  {
   "cell_type": "code",
   "execution_count": 2,
   "metadata": {
    "collapsed": true
   },
   "outputs": [],
   "source": [
    "df = pd.read_csv('./data/debate.csv', encoding = 'iso-8859-1')"
   ]
  },
  {
   "cell_type": "code",
   "execution_count": 3,
   "metadata": {},
   "outputs": [
    {
     "data": {
      "text/html": [
       "<div>\n",
       "<style scoped>\n",
       "    .dataframe tbody tr th:only-of-type {\n",
       "        vertical-align: middle;\n",
       "    }\n",
       "\n",
       "    .dataframe tbody tr th {\n",
       "        vertical-align: top;\n",
       "    }\n",
       "\n",
       "    .dataframe thead th {\n",
       "        text-align: right;\n",
       "    }\n",
       "</style>\n",
       "<table border=\"1\" class=\"dataframe\">\n",
       "  <thead>\n",
       "    <tr style=\"text-align: right;\">\n",
       "      <th></th>\n",
       "      <th>Line</th>\n",
       "      <th>Speaker</th>\n",
       "      <th>Text</th>\n",
       "      <th>Date</th>\n",
       "    </tr>\n",
       "  </thead>\n",
       "  <tbody>\n",
       "    <tr>\n",
       "      <th>0</th>\n",
       "      <td>1</td>\n",
       "      <td>Holt</td>\n",
       "      <td>Good evening from Hofstra University in Hempst...</td>\n",
       "      <td>9/26/16</td>\n",
       "    </tr>\n",
       "    <tr>\n",
       "      <th>1</th>\n",
       "      <td>2</td>\n",
       "      <td>Audience</td>\n",
       "      <td>(APPLAUSE)</td>\n",
       "      <td>9/26/16</td>\n",
       "    </tr>\n",
       "    <tr>\n",
       "      <th>2</th>\n",
       "      <td>3</td>\n",
       "      <td>Clinton</td>\n",
       "      <td>How are you, Donald?</td>\n",
       "      <td>9/26/16</td>\n",
       "    </tr>\n",
       "    <tr>\n",
       "      <th>3</th>\n",
       "      <td>4</td>\n",
       "      <td>Audience</td>\n",
       "      <td>(APPLAUSE)</td>\n",
       "      <td>9/26/16</td>\n",
       "    </tr>\n",
       "    <tr>\n",
       "      <th>4</th>\n",
       "      <td>5</td>\n",
       "      <td>Holt</td>\n",
       "      <td>Good luck to you.</td>\n",
       "      <td>9/26/16</td>\n",
       "    </tr>\n",
       "    <tr>\n",
       "      <th>5</th>\n",
       "      <td>6</td>\n",
       "      <td>Audience</td>\n",
       "      <td>(APPLAUSE)</td>\n",
       "      <td>9/26/16</td>\n",
       "    </tr>\n",
       "    <tr>\n",
       "      <th>6</th>\n",
       "      <td>7</td>\n",
       "      <td>Holt</td>\n",
       "      <td>Well, I don't expect us to cover all the issue...</td>\n",
       "      <td>9/26/16</td>\n",
       "    </tr>\n",
       "    <tr>\n",
       "      <th>7</th>\n",
       "      <td>8</td>\n",
       "      <td>Clinton</td>\n",
       "      <td>Well, thank you, Lester, and thanks to Hofstra...</td>\n",
       "      <td>9/26/16</td>\n",
       "    </tr>\n",
       "    <tr>\n",
       "      <th>8</th>\n",
       "      <td>9</td>\n",
       "      <td>Clinton</td>\n",
       "      <td>I also want to see more companies do profit-sh...</td>\n",
       "      <td>9/26/16</td>\n",
       "    </tr>\n",
       "    <tr>\n",
       "      <th>9</th>\n",
       "      <td>10</td>\n",
       "      <td>Holt</td>\n",
       "      <td>Secretary Clinton, thank you. Mr. Trump, the s...</td>\n",
       "      <td>9/26/16</td>\n",
       "    </tr>\n",
       "    <tr>\n",
       "      <th>10</th>\n",
       "      <td>11</td>\n",
       "      <td>Trump</td>\n",
       "      <td>Thank you, Lester. Our jobs are fleeing the co...</td>\n",
       "      <td>9/26/16</td>\n",
       "    </tr>\n",
       "    <tr>\n",
       "      <th>11</th>\n",
       "      <td>12</td>\n",
       "      <td>Trump</td>\n",
       "      <td>We cannot let it happen. Under my plan, I'll b...</td>\n",
       "      <td>9/26/16</td>\n",
       "    </tr>\n",
       "    <tr>\n",
       "      <th>12</th>\n",
       "      <td>13</td>\n",
       "      <td>Holt</td>\n",
       "      <td>Secretary Clinton, would you like to respond?</td>\n",
       "      <td>9/26/16</td>\n",
       "    </tr>\n",
       "    <tr>\n",
       "      <th>13</th>\n",
       "      <td>14</td>\n",
       "      <td>Clinton</td>\n",
       "      <td>Well, I think that trade is an important issue...</td>\n",
       "      <td>9/26/16</td>\n",
       "    </tr>\n",
       "    <tr>\n",
       "      <th>14</th>\n",
       "      <td>15</td>\n",
       "      <td>Holt</td>\n",
       "      <td>Let me follow up with Mr. Trump, if you can. Y...</td>\n",
       "      <td>9/26/16</td>\n",
       "    </tr>\n",
       "    <tr>\n",
       "      <th>15</th>\n",
       "      <td>16</td>\n",
       "      <td>Trump</td>\n",
       "      <td>Well, for one thing -- and before we start on ...</td>\n",
       "      <td>9/26/16</td>\n",
       "    </tr>\n",
       "    <tr>\n",
       "      <th>16</th>\n",
       "      <td>17</td>\n",
       "      <td>Holt</td>\n",
       "      <td>Let me interrupt just a moment, but...</td>\n",
       "      <td>9/26/16</td>\n",
       "    </tr>\n",
       "    <tr>\n",
       "      <th>17</th>\n",
       "      <td>18</td>\n",
       "      <td>Trump</td>\n",
       "      <td>Secretary Clinton and others, politicians, sho...</td>\n",
       "      <td>9/26/16</td>\n",
       "    </tr>\n",
       "    <tr>\n",
       "      <th>18</th>\n",
       "      <td>19</td>\n",
       "      <td>Holt</td>\n",
       "      <td>Back to the question, though. How do you bring...</td>\n",
       "      <td>9/26/16</td>\n",
       "    </tr>\n",
       "    <tr>\n",
       "      <th>19</th>\n",
       "      <td>20</td>\n",
       "      <td>Trump</td>\n",
       "      <td>Well, the first thing you do is don't let the ...</td>\n",
       "      <td>9/26/16</td>\n",
       "    </tr>\n",
       "  </tbody>\n",
       "</table>\n",
       "</div>"
      ],
      "text/plain": [
       "    Line   Speaker                                               Text     Date\n",
       "0      1      Holt  Good evening from Hofstra University in Hempst...  9/26/16\n",
       "1      2  Audience                                         (APPLAUSE)  9/26/16\n",
       "2      3   Clinton                               How are you, Donald?  9/26/16\n",
       "3      4  Audience                                         (APPLAUSE)  9/26/16\n",
       "4      5      Holt                                  Good luck to you.  9/26/16\n",
       "5      6  Audience                                         (APPLAUSE)  9/26/16\n",
       "6      7      Holt  Well, I don't expect us to cover all the issue...  9/26/16\n",
       "7      8   Clinton  Well, thank you, Lester, and thanks to Hofstra...  9/26/16\n",
       "8      9   Clinton  I also want to see more companies do profit-sh...  9/26/16\n",
       "9     10      Holt  Secretary Clinton, thank you. Mr. Trump, the s...  9/26/16\n",
       "10    11     Trump  Thank you, Lester. Our jobs are fleeing the co...  9/26/16\n",
       "11    12     Trump  We cannot let it happen. Under my plan, I'll b...  9/26/16\n",
       "12    13      Holt      Secretary Clinton, would you like to respond?  9/26/16\n",
       "13    14   Clinton  Well, I think that trade is an important issue...  9/26/16\n",
       "14    15      Holt  Let me follow up with Mr. Trump, if you can. Y...  9/26/16\n",
       "15    16     Trump  Well, for one thing -- and before we start on ...  9/26/16\n",
       "16    17      Holt             Let me interrupt just a moment, but...  9/26/16\n",
       "17    18     Trump  Secretary Clinton and others, politicians, sho...  9/26/16\n",
       "18    19      Holt  Back to the question, though. How do you bring...  9/26/16\n",
       "19    20     Trump  Well, the first thing you do is don't let the ...  9/26/16"
      ]
     },
     "execution_count": 3,
     "metadata": {},
     "output_type": "execute_result"
    }
   ],
   "source": [
    "df.head(20)"
   ]
  },
  {
   "cell_type": "code",
   "execution_count": 4,
   "metadata": {},
   "outputs": [
    {
     "data": {
      "text/plain": [
       "(1389, 4)"
      ]
     },
     "execution_count": 4,
     "metadata": {},
     "output_type": "execute_result"
    }
   ],
   "source": [
    "df.shape"
   ]
  },
  {
   "cell_type": "code",
   "execution_count": 5,
   "metadata": {},
   "outputs": [
    {
     "data": {
      "text/plain": [
       "Line       0\n",
       "Speaker    0\n",
       "Text       0\n",
       "Date       0\n",
       "dtype: int64"
      ]
     },
     "execution_count": 5,
     "metadata": {},
     "output_type": "execute_result"
    }
   ],
   "source": [
    "df.isnull().sum(axis = 0)"
   ]
  },
  {
   "cell_type": "code",
   "execution_count": 39,
   "metadata": {},
   "outputs": [],
   "source": [
    "df_new = df[(df.Speaker == 'Clinton') | (df.Speaker == 'Trump')]"
   ]
  },
  {
   "cell_type": "code",
   "execution_count": 40,
   "metadata": {
    "collapsed": true
   },
   "outputs": [
    {
     "data": {
      "text/plain": [
       "Line       0\n",
       "Speaker    0\n",
       "Text       0\n",
       "Date       0\n",
       "dtype: int64"
      ]
     },
     "execution_count": 40,
     "metadata": {},
     "output_type": "execute_result"
    }
   ],
   "source": [
    "df_new.isnull().sum(axis = 0)\n"
   ]
  },
  {
   "cell_type": "code",
   "execution_count": 41,
   "metadata": {},
   "outputs": [
    {
     "data": {
      "text/html": [
       "<div>\n",
       "<style scoped>\n",
       "    .dataframe tbody tr th:only-of-type {\n",
       "        vertical-align: middle;\n",
       "    }\n",
       "\n",
       "    .dataframe tbody tr th {\n",
       "        vertical-align: top;\n",
       "    }\n",
       "\n",
       "    .dataframe thead th {\n",
       "        text-align: right;\n",
       "    }\n",
       "</style>\n",
       "<table border=\"1\" class=\"dataframe\">\n",
       "  <thead>\n",
       "    <tr style=\"text-align: right;\">\n",
       "      <th></th>\n",
       "      <th>Line</th>\n",
       "      <th>Speaker</th>\n",
       "      <th>Text</th>\n",
       "      <th>Date</th>\n",
       "    </tr>\n",
       "  </thead>\n",
       "  <tbody>\n",
       "    <tr>\n",
       "      <th>count</th>\n",
       "      <td>598.000000</td>\n",
       "      <td>598</td>\n",
       "      <td>598</td>\n",
       "      <td>598</td>\n",
       "    </tr>\n",
       "    <tr>\n",
       "      <th>unique</th>\n",
       "      <td>NaN</td>\n",
       "      <td>2</td>\n",
       "      <td>586</td>\n",
       "      <td>3</td>\n",
       "    </tr>\n",
       "    <tr>\n",
       "      <th>top</th>\n",
       "      <td>NaN</td>\n",
       "      <td>Trump</td>\n",
       "      <td>Wrong.</td>\n",
       "      <td>9/26/16</td>\n",
       "    </tr>\n",
       "    <tr>\n",
       "      <th>freq</th>\n",
       "      <td>NaN</td>\n",
       "      <td>355</td>\n",
       "      <td>7</td>\n",
       "      <td>228</td>\n",
       "    </tr>\n",
       "    <tr>\n",
       "      <th>mean</th>\n",
       "      <td>169.513378</td>\n",
       "      <td>NaN</td>\n",
       "      <td>NaN</td>\n",
       "      <td>NaN</td>\n",
       "    </tr>\n",
       "    <tr>\n",
       "      <th>std</th>\n",
       "      <td>97.704623</td>\n",
       "      <td>NaN</td>\n",
       "      <td>NaN</td>\n",
       "      <td>NaN</td>\n",
       "    </tr>\n",
       "    <tr>\n",
       "      <th>min</th>\n",
       "      <td>3.000000</td>\n",
       "      <td>NaN</td>\n",
       "      <td>NaN</td>\n",
       "      <td>NaN</td>\n",
       "    </tr>\n",
       "    <tr>\n",
       "      <th>25%</th>\n",
       "      <td>84.250000</td>\n",
       "      <td>NaN</td>\n",
       "      <td>NaN</td>\n",
       "      <td>NaN</td>\n",
       "    </tr>\n",
       "    <tr>\n",
       "      <th>50%</th>\n",
       "      <td>165.000000</td>\n",
       "      <td>NaN</td>\n",
       "      <td>NaN</td>\n",
       "      <td>NaN</td>\n",
       "    </tr>\n",
       "    <tr>\n",
       "      <th>75%</th>\n",
       "      <td>250.750000</td>\n",
       "      <td>NaN</td>\n",
       "      <td>NaN</td>\n",
       "      <td>NaN</td>\n",
       "    </tr>\n",
       "    <tr>\n",
       "      <th>max</th>\n",
       "      <td>360.000000</td>\n",
       "      <td>NaN</td>\n",
       "      <td>NaN</td>\n",
       "      <td>NaN</td>\n",
       "    </tr>\n",
       "  </tbody>\n",
       "</table>\n",
       "</div>"
      ],
      "text/plain": [
       "              Line Speaker    Text     Date\n",
       "count   598.000000     598     598      598\n",
       "unique         NaN       2     586        3\n",
       "top            NaN   Trump  Wrong.  9/26/16\n",
       "freq           NaN     355       7      228\n",
       "mean    169.513378     NaN     NaN      NaN\n",
       "std      97.704623     NaN     NaN      NaN\n",
       "min       3.000000     NaN     NaN      NaN\n",
       "25%      84.250000     NaN     NaN      NaN\n",
       "50%     165.000000     NaN     NaN      NaN\n",
       "75%     250.750000     NaN     NaN      NaN\n",
       "max     360.000000     NaN     NaN      NaN"
      ]
     },
     "execution_count": 41,
     "metadata": {},
     "output_type": "execute_result"
    }
   ],
   "source": [
    "df_new.describe(include = 'all')"
   ]
  },
  {
   "cell_type": "code",
   "execution_count": 42,
   "metadata": {},
   "outputs": [
    {
     "data": {
      "text/html": [
       "<div>\n",
       "<style scoped>\n",
       "    .dataframe tbody tr th:only-of-type {\n",
       "        vertical-align: middle;\n",
       "    }\n",
       "\n",
       "    .dataframe tbody tr th {\n",
       "        vertical-align: top;\n",
       "    }\n",
       "\n",
       "    .dataframe thead th {\n",
       "        text-align: right;\n",
       "    }\n",
       "</style>\n",
       "<table border=\"1\" class=\"dataframe\">\n",
       "  <thead>\n",
       "    <tr style=\"text-align: right;\">\n",
       "      <th></th>\n",
       "      <th>Line</th>\n",
       "      <th>Speaker</th>\n",
       "      <th>Text</th>\n",
       "      <th>Date</th>\n",
       "    </tr>\n",
       "  </thead>\n",
       "  <tbody>\n",
       "    <tr>\n",
       "      <th>2</th>\n",
       "      <td>3</td>\n",
       "      <td>Clinton</td>\n",
       "      <td>How are you, Donald?</td>\n",
       "      <td>9/26/16</td>\n",
       "    </tr>\n",
       "    <tr>\n",
       "      <th>7</th>\n",
       "      <td>8</td>\n",
       "      <td>Clinton</td>\n",
       "      <td>Well, thank you, Lester, and thanks to Hofstra for hosting us. The central question in this election is really what kind of country we want to be and what kind of future we'll build together. Today is my granddaughter's second birthday, so I think about this a lot. First, we have to build an economy that works for everyone, not just those at the top. That means we need new jobs, good jobs, with rising incomes. I want us to invest in you. I want us to invest in your future. That means jobs in...</td>\n",
       "      <td>9/26/16</td>\n",
       "    </tr>\n",
       "    <tr>\n",
       "      <th>8</th>\n",
       "      <td>9</td>\n",
       "      <td>Clinton</td>\n",
       "      <td>I also want to see more companies do profit-sharing. If you help create the profits, you should be able to share in them, not just the executives at the top. And I want us to do more to support people who are struggling to balance family and work. I've heard from so many of you about the difficult choices you face and the stresses that you're under. So let's have paid family leave, earned sick days. Let's be sure we have affordable child care and debt-free college. How are we going to do it?...</td>\n",
       "      <td>9/26/16</td>\n",
       "    </tr>\n",
       "    <tr>\n",
       "      <th>10</th>\n",
       "      <td>11</td>\n",
       "      <td>Trump</td>\n",
       "      <td>Thank you, Lester. Our jobs are fleeing the country. They're going to Mexico. They're going to many other countries. You look at what China is doing to our country in terms of making our product. They're devaluing their currency, and there's nobody in our government to fight them. And we have a very good fight. And we have a winning fight. Because they're using our country as a piggy bank to rebuild China, and many other countries are doing the same thing. So we're losing our good jobs, so m...</td>\n",
       "      <td>9/26/16</td>\n",
       "    </tr>\n",
       "    <tr>\n",
       "      <th>11</th>\n",
       "      <td>12</td>\n",
       "      <td>Trump</td>\n",
       "      <td>We cannot let it happen. Under my plan, I'll be reducing taxes tremendously, from 35 percent to 15 percent for companies, small and big businesses. That's going to be a job creator like we haven't seen since Ronald Reagan. It's going to be a beautiful thing to watch. Companies will come. They will build. They will expand. New companies will start. And I look very, very much forward to doing it. We have to renegotiate our trade deals, and we have to stop these countries from stealing our comp...</td>\n",
       "      <td>9/26/16</td>\n",
       "    </tr>\n",
       "  </tbody>\n",
       "</table>\n",
       "</div>"
      ],
      "text/plain": [
       "    Line  Speaker  \\\n",
       "2      3  Clinton   \n",
       "7      8  Clinton   \n",
       "8      9  Clinton   \n",
       "10    11    Trump   \n",
       "11    12    Trump   \n",
       "\n",
       "                                                                                                                                                                                                                                                                                                                                                                                                                                                                                                                   Text  \\\n",
       "2                                                                                                                                                                                                                                                                                                                                                                                                                                                                                                  How are you, Donald?   \n",
       "7   Well, thank you, Lester, and thanks to Hofstra for hosting us. The central question in this election is really what kind of country we want to be and what kind of future we'll build together. Today is my granddaughter's second birthday, so I think about this a lot. First, we have to build an economy that works for everyone, not just those at the top. That means we need new jobs, good jobs, with rising incomes. I want us to invest in you. I want us to invest in your future. That means jobs in...   \n",
       "8   I also want to see more companies do profit-sharing. If you help create the profits, you should be able to share in them, not just the executives at the top. And I want us to do more to support people who are struggling to balance family and work. I've heard from so many of you about the difficult choices you face and the stresses that you're under. So let's have paid family leave, earned sick days. Let's be sure we have affordable child care and debt-free college. How are we going to do it?...   \n",
       "10  Thank you, Lester. Our jobs are fleeing the country. They're going to Mexico. They're going to many other countries. You look at what China is doing to our country in terms of making our product. They're devaluing their currency, and there's nobody in our government to fight them. And we have a very good fight. And we have a winning fight. Because they're using our country as a piggy bank to rebuild China, and many other countries are doing the same thing. So we're losing our good jobs, so m...   \n",
       "11  We cannot let it happen. Under my plan, I'll be reducing taxes tremendously, from 35 percent to 15 percent for companies, small and big businesses. That's going to be a job creator like we haven't seen since Ronald Reagan. It's going to be a beautiful thing to watch. Companies will come. They will build. They will expand. New companies will start. And I look very, very much forward to doing it. We have to renegotiate our trade deals, and we have to stop these countries from stealing our comp...   \n",
       "\n",
       "       Date  \n",
       "2   9/26/16  \n",
       "7   9/26/16  \n",
       "8   9/26/16  \n",
       "10  9/26/16  \n",
       "11  9/26/16  "
      ]
     },
     "execution_count": 42,
     "metadata": {},
     "output_type": "execute_result"
    }
   ],
   "source": [
    "df_new.head()"
   ]
  },
  {
   "cell_type": "markdown",
   "metadata": {},
   "source": [
    "### Tokenize text data\n",
    "\n",
    "Because of the computational expenses, I use the top 20000 unique words. First, tokenize the comments then convert those into sequences. I keep 50 words to limit the number of words in each comment. "
   ]
  },
  {
   "cell_type": "code",
   "execution_count": 43,
   "metadata": {
    "collapsed": true
   },
   "outputs": [],
   "source": [
    "def clean_text(text):\n",
    "    \n",
    "    ## Remove puncuation\n",
    "    text = re.sub(r'[^\\w\\s.?]', ' ', text)\n",
    "    \n",
    "    # Clean the text)\n",
    "    text = re.sub(r\"\\?\", \".\", text)\n",
    "    text = re.sub(r\"\\.\\.\\.\", \".\", text)\n",
    "    text = re.sub(r\"\\d+\\w?\", \" \", text)\n",
    "    text = re.sub(r\",\", \" \", text)\n",
    "    text = re.sub(r\"!\", \" ! \", text)\n",
    "    text = re.sub(r\"\\/\", \" \", text)\n",
    "    text = re.sub(r\"\\^\", \" ^ \", text)\n",
    "    text = re.sub(r\"\\+\", \" + \", text)\n",
    "    text = re.sub(r\"\\-\", \" - \", text)\n",
    "    text = re.sub(r\"\\=\", \" = \", text)\n",
    "    text = re.sub(r\"'\", \" \", text)\n",
    "    \n",
    "    ## Convert words to lower case and split them\n",
    "    text = text.lower().split()\n",
    "    \n",
    "    ## Remove stop words\n",
    "    stops = set(stopwords.words(\"english\"))\n",
    "    text = [w for w in text if not w in stops and len(w) >= 3]\n",
    "    \n",
    "    text = \" \".join(text)\n",
    "    \n",
    "#     text = text.split()\n",
    "#     stemmer = SnowballStemmer('english')\n",
    "#     stemmed_words = [stemmer.stem(word) for word in text]\n",
    "#     text = \" \".join(stemmed_words)\n",
    "\n",
    "    return text"
   ]
  },
  {
   "cell_type": "code",
   "execution_count": 108,
   "metadata": {},
   "outputs": [],
   "source": [
    "df_new['processed_text'] = df_new['Text'].map(lambda x: clean_text(x))"
   ]
  },
  {
   "cell_type": "code",
   "execution_count": 45,
   "metadata": {},
   "outputs": [
    {
     "data": {
      "text/html": [
       "<div>\n",
       "<style scoped>\n",
       "    .dataframe tbody tr th:only-of-type {\n",
       "        vertical-align: middle;\n",
       "    }\n",
       "\n",
       "    .dataframe tbody tr th {\n",
       "        vertical-align: top;\n",
       "    }\n",
       "\n",
       "    .dataframe thead th {\n",
       "        text-align: right;\n",
       "    }\n",
       "</style>\n",
       "<table border=\"1\" class=\"dataframe\">\n",
       "  <thead>\n",
       "    <tr style=\"text-align: right;\">\n",
       "      <th></th>\n",
       "      <th>Line</th>\n",
       "      <th>Speaker</th>\n",
       "      <th>Text</th>\n",
       "      <th>Date</th>\n",
       "      <th>processed_text</th>\n",
       "    </tr>\n",
       "  </thead>\n",
       "  <tbody>\n",
       "    <tr>\n",
       "      <th>2</th>\n",
       "      <td>3</td>\n",
       "      <td>Clinton</td>\n",
       "      <td>How are you, Donald?</td>\n",
       "      <td>9/26/16</td>\n",
       "      <td>donald.</td>\n",
       "    </tr>\n",
       "    <tr>\n",
       "      <th>7</th>\n",
       "      <td>8</td>\n",
       "      <td>Clinton</td>\n",
       "      <td>Well, thank you, Lester, and thanks to Hofstra for hosting us. The central question in this election is really what kind of country we want to be and what kind of future we'll build together. Today is my granddaughter's second birthday, so I think about this a lot. First, we have to build an economy that works for everyone, not just those at the top. That means we need new jobs, good jobs, with rising incomes. I want us to invest in you. I want us to invest in your future. That means jobs in...</td>\n",
       "      <td>9/26/16</td>\n",
       "      <td>well thank lester thanks hofstra hosting us. central question election really kind country want kind future build together. today granddaughter second birthday think lot. first build economy works everyone top. means need new jobs good jobs rising incomes. want invest you. want invest future. means jobs infrastructure advanced manufacturing innovation technology clean renewable energy small business new jobs come small business. also make economy fairer. starts raising national minimum wage ...</td>\n",
       "    </tr>\n",
       "    <tr>\n",
       "      <th>8</th>\n",
       "      <td>9</td>\n",
       "      <td>Clinton</td>\n",
       "      <td>I also want to see more companies do profit-sharing. If you help create the profits, you should be able to share in them, not just the executives at the top. And I want us to do more to support people who are struggling to balance family and work. I've heard from so many of you about the difficult choices you face and the stresses that you're under. So let's have paid family leave, earned sick days. Let's be sure we have affordable child care and debt-free college. How are we going to do it?...</td>\n",
       "      <td>9/26/16</td>\n",
       "      <td>also want see companies profit sharing. help create profits able share executives top. want support people struggling balance family work. heard many difficult choices face stresses under. let paid family leave earned sick days. let sure affordable child care debt free college. going it. going wealthy pay fair share close corporate loopholes. finally tonight stage together donald trump donald good you. going debate talking important issues facing country. judge shoulder immense awesome respo...</td>\n",
       "    </tr>\n",
       "    <tr>\n",
       "      <th>10</th>\n",
       "      <td>11</td>\n",
       "      <td>Trump</td>\n",
       "      <td>Thank you, Lester. Our jobs are fleeing the country. They're going to Mexico. They're going to many other countries. You look at what China is doing to our country in terms of making our product. They're devaluing their currency, and there's nobody in our government to fight them. And we have a very good fight. And we have a winning fight. Because they're using our country as a piggy bank to rebuild China, and many other countries are doing the same thing. So we're losing our good jobs, so m...</td>\n",
       "      <td>9/26/16</td>\n",
       "      <td>thank lester. jobs fleeing country. going mexico. going many countries. look china country terms making product. devaluing currency nobody government fight them. good fight. winning fight. using country piggy bank rebuild china many countries thing. losing good jobs many them. look happening mexico friend mine builds plants said eighth wonder world. building biggest plants anywhere world sophisticated best plants. united states said much. ford leaving. see small car division leaving. thousan...</td>\n",
       "    </tr>\n",
       "    <tr>\n",
       "      <th>11</th>\n",
       "      <td>12</td>\n",
       "      <td>Trump</td>\n",
       "      <td>We cannot let it happen. Under my plan, I'll be reducing taxes tremendously, from 35 percent to 15 percent for companies, small and big businesses. That's going to be a job creator like we haven't seen since Ronald Reagan. It's going to be a beautiful thing to watch. Companies will come. They will build. They will expand. New companies will start. And I look very, very much forward to doing it. We have to renegotiate our trade deals, and we have to stop these countries from stealing our comp...</td>\n",
       "      <td>9/26/16</td>\n",
       "      <td>cannot let happen. plan reducing taxes tremendously percent percent companies small big businesses. going job creator like seen since ronald reagan. going beautiful thing watch. companies come. build. expand. new companies start. look much forward it. renegotiate trade deals stop countries stealing companies jobs.</td>\n",
       "    </tr>\n",
       "    <tr>\n",
       "      <th>13</th>\n",
       "      <td>14</td>\n",
       "      <td>Clinton</td>\n",
       "      <td>Well, I think that trade is an important issue. Of course, we are 5 percent of the world's population; we have to trade with the other 95 percent. And we need to have smart, fair trade deals. We also, though, need to have a tax system that rewards work and not just financial transactions. And the kind of plan that Donald has put forth would be trickle-down economics all over again. In fact, it would be the most extreme version, the biggest tax cuts for the top percent of the people in this c...</td>\n",
       "      <td>9/26/16</td>\n",
       "      <td>well think trade important issue. course percent world population trade percent. need smart fair trade deals. also though need tax system rewards work financial transactions. kind plan donald put forth would trickle economics again. fact would extreme version biggest tax cuts top percent people country ever had. call trumped trickle exactly would be. grow economy. different view best growing economy make investments actually produce jobs rising incomes. think come somewhat different perspect...</td>\n",
       "    </tr>\n",
       "    <tr>\n",
       "      <th>15</th>\n",
       "      <td>16</td>\n",
       "      <td>Trump</td>\n",
       "      <td>Well, for one thing -- and before we start on that -- my father gave me a very small loan in 1975, and I built it into a company that's worth many, many billions of dollars, with some of the greatest assets in the world, and I say that only because that's the kind of thinking that our country needs. Our country's in deep trouble. We don't know what we're doing when it comes to devaluations and all of these countries all over the world, especially China. They're the best, the best ever at it....</td>\n",
       "      <td>9/26/16</td>\n",
       "      <td>well one thing start father gave small loan built company worth many many billions dollars greatest assets world say kind thinking country needs. country deep trouble. know comes devaluations countries world especially china. best best ever it. sad thing. that. renegotiate trade deals. lester taking jobs giving incentives things frankly do. let give example mexico. vat tax. different system. sell mexico tax. sell automatic percent approximately. sell tax. defective agreement. defective long ...</td>\n",
       "    </tr>\n",
       "    <tr>\n",
       "      <th>17</th>\n",
       "      <td>18</td>\n",
       "      <td>Trump</td>\n",
       "      <td>Secretary Clinton and others, politicians, should have been doing this for years, not right now, because of the fact that we've created a movement. They should have been doing this for years. What's happened to our jobs and our country and our economy generally is -- look, we owe $20 trillion. We cannot do it any longer, Lester.</td>\n",
       "      <td>9/26/16</td>\n",
       "      <td>secretary clinton others politicians years right fact created movement. years. happened jobs country economy generally look owe trillion. cannot longer lester.</td>\n",
       "    </tr>\n",
       "    <tr>\n",
       "      <th>19</th>\n",
       "      <td>20</td>\n",
       "      <td>Trump</td>\n",
       "      <td>Well, the first thing you do is don't let the jobs leave. The companies are leaving. I could name, I mean, there are thousands of them. They're leaving, and they're leaving in bigger numbers than ever. And what you do is you say, fine, you want to go to Mexico or some other country, good luck. We wish you a lot of luck. But if you think you're going to make your air conditioners or your cars or your cookies or whatever you make and bring them into our country without a tax, you're wrong. And...</td>\n",
       "      <td>9/26/16</td>\n",
       "      <td>well first thing let jobs leave. companies leaving. could name mean thousands them. leaving leaving bigger numbers ever. say fine want mexico country good luck. wish lot luck. think going make air conditioners cars cookies whatever make bring country without tax wrong. say going tax coming politicians never special interests special interests want companies leave many cases companies. saying stop leaving. stop leaving. big big factor.</td>\n",
       "    </tr>\n",
       "    <tr>\n",
       "      <th>21</th>\n",
       "      <td>22</td>\n",
       "      <td>Clinton</td>\n",
       "      <td>Well, let's stop for a second and remember where we were eight years ago. We had the worst financial crisis, the Great Recession, the worst since the 1930s. That was in large part because of tax policies that slashed taxes on the wealthy, failed to invest in the middle class, took their eyes off of Wall Street, and created a perfect storm. In fact, Donald was one of the people who rooted for the housing crisis. He said, back in 2006, \"Gee, I hope it does collapse, because then I can go in an...</td>\n",
       "      <td>9/26/16</td>\n",
       "      <td>well let stop second remember eight years ago. worst financial crisis great recession worst since large part tax policies slashed taxes wealthy failed invest middle class took eyes wall street created perfect storm. fact donald one people rooted housing crisis. said back gee hope collapse buy make money. well collapse.</td>\n",
       "    </tr>\n",
       "    <tr>\n",
       "      <th>22</th>\n",
       "      <td>23</td>\n",
       "      <td>Trump</td>\n",
       "      <td>That's called business, by the way.</td>\n",
       "      <td>9/26/16</td>\n",
       "      <td>called business way.</td>\n",
       "    </tr>\n",
       "    <tr>\n",
       "      <th>23</th>\n",
       "      <td>24</td>\n",
       "      <td>Clinton</td>\n",
       "      <td>Nine million people -- nine million people lost their jobs. Five million people lost their homes. And $13 trillion in family wealth was wiped out. Now, we have come back from that abyss. And it has not been easy. So we're now on the precipice of having a potentially much better economy, but the last thing we need to do is to go back to the policies that failed us in the first place. Independent experts have looked at what I've proposed and looked at what Donald's proposed, and basically they...</td>\n",
       "      <td>9/26/16</td>\n",
       "      <td>nine million people nine million people lost jobs. five million people lost homes. trillion family wealth wiped out. come back abyss. easy. precipice potentially much better economy last thing need back policies failed first place. independent experts looked proposed looked donald proposed basically said tax plan would blow debt trillion would instances disadvantage middle class families compared wealthy effect would lose million jobs maybe another recession. looked plans said intend get don...</td>\n",
       "    </tr>\n",
       "    <tr>\n",
       "      <th>24</th>\n",
       "      <td>25</td>\n",
       "      <td>Trump</td>\n",
       "      <td>I did not. I did not. I do not say that.</td>\n",
       "      <td>9/26/16</td>\n",
       "      <td>not. not. say that.</td>\n",
       "    </tr>\n",
       "    <tr>\n",
       "      <th>25</th>\n",
       "      <td>26</td>\n",
       "      <td>Clinton</td>\n",
       "      <td>I think science is real.</td>\n",
       "      <td>9/26/16</td>\n",
       "      <td>think science real.</td>\n",
       "    </tr>\n",
       "    <tr>\n",
       "      <th>26</th>\n",
       "      <td>27</td>\n",
       "      <td>Trump</td>\n",
       "      <td>I do not say that.</td>\n",
       "      <td>9/26/16</td>\n",
       "      <td>say that.</td>\n",
       "    </tr>\n",
       "    <tr>\n",
       "      <th>27</th>\n",
       "      <td>28</td>\n",
       "      <td>Clinton</td>\n",
       "      <td>And I think it's important that we grip this and deal with it, both at home and abroad. And here's what we can do. We can deploy a half a billion more solar panels. We can have enough clean energy to power every home. We can build a new modern electric grid. That's a lot of jobs; that's a lot of new economic activity. So I've tried to be very specific about what we can and should do, and I am determined that we're going to get the economy really moving again, building on the progress we've m...</td>\n",
       "      <td>9/26/16</td>\n",
       "      <td>think important grip deal home abroad. do. deploy half billion solar panels. enough clean energy power every home. build new modern electric grid. lot jobs lot new economic activity. tried specific determined going get economy really moving building progress made last eight years never going back got trouble first place.</td>\n",
       "    </tr>\n",
       "    <tr>\n",
       "      <th>29</th>\n",
       "      <td>30</td>\n",
       "      <td>Trump</td>\n",
       "      <td>She talks about solar panels. We invested in a solar company, our country. That was a disaster. They lost plenty of money on that one. Now, look, I'm a great believer in all forms of energy, but we're putting a lot of people out of work. Our energy policies are a disaster. Our country is losing so much in terms of energy, in terms of paying off our debt. You can't do what you're looking to do with $20 trillion in debt. The Obama administration, from the time they've come in, is over 230 year...</td>\n",
       "      <td>9/26/16</td>\n",
       "      <td>talks solar panels. invested solar company country. disaster. lost plenty money one. look great believer forms energy putting lot people work. energy policies disaster. country losing much terms energy terms paying debt. looking trillion debt. obama administration time come years worth debt topped it. doubled course almost eight years seven half years semi exact. tell this. much better job keeping jobs. much better job giving companies incentives build new companies expand it. look michigan ...</td>\n",
       "    </tr>\n",
       "    <tr>\n",
       "      <th>30</th>\n",
       "      <td>31</td>\n",
       "      <td>Clinton</td>\n",
       "      <td>Well, actually...</td>\n",
       "      <td>9/26/16</td>\n",
       "      <td>well actually.</td>\n",
       "    </tr>\n",
       "    <tr>\n",
       "      <th>31</th>\n",
       "      <td>32</td>\n",
       "      <td>Trump</td>\n",
       "      <td>I will bring -- excuse me. I will bring back jobs. You can't bring back jobs.</td>\n",
       "      <td>9/26/16</td>\n",
       "      <td>bring excuse me. bring back jobs. bring back jobs.</td>\n",
       "    </tr>\n",
       "    <tr>\n",
       "      <th>32</th>\n",
       "      <td>33</td>\n",
       "      <td>Clinton</td>\n",
       "      <td>Well, actually, I have thought about this quite a bit.</td>\n",
       "      <td>9/26/16</td>\n",
       "      <td>well actually thought quite bit.</td>\n",
       "    </tr>\n",
       "  </tbody>\n",
       "</table>\n",
       "</div>"
      ],
      "text/plain": [
       "    Line  Speaker  \\\n",
       "2      3  Clinton   \n",
       "7      8  Clinton   \n",
       "8      9  Clinton   \n",
       "10    11    Trump   \n",
       "11    12    Trump   \n",
       "13    14  Clinton   \n",
       "15    16    Trump   \n",
       "17    18    Trump   \n",
       "19    20    Trump   \n",
       "21    22  Clinton   \n",
       "22    23    Trump   \n",
       "23    24  Clinton   \n",
       "24    25    Trump   \n",
       "25    26  Clinton   \n",
       "26    27    Trump   \n",
       "27    28  Clinton   \n",
       "29    30    Trump   \n",
       "30    31  Clinton   \n",
       "31    32    Trump   \n",
       "32    33  Clinton   \n",
       "\n",
       "                                                                                                                                                                                                                                                                                                                                                                                                                                                                                                                   Text  \\\n",
       "2                                                                                                                                                                                                                                                                                                                                                                                                                                                                                                  How are you, Donald?   \n",
       "7   Well, thank you, Lester, and thanks to Hofstra for hosting us. The central question in this election is really what kind of country we want to be and what kind of future we'll build together. Today is my granddaughter's second birthday, so I think about this a lot. First, we have to build an economy that works for everyone, not just those at the top. That means we need new jobs, good jobs, with rising incomes. I want us to invest in you. I want us to invest in your future. That means jobs in...   \n",
       "8   I also want to see more companies do profit-sharing. If you help create the profits, you should be able to share in them, not just the executives at the top. And I want us to do more to support people who are struggling to balance family and work. I've heard from so many of you about the difficult choices you face and the stresses that you're under. So let's have paid family leave, earned sick days. Let's be sure we have affordable child care and debt-free college. How are we going to do it?...   \n",
       "10  Thank you, Lester. Our jobs are fleeing the country. They're going to Mexico. They're going to many other countries. You look at what China is doing to our country in terms of making our product. They're devaluing their currency, and there's nobody in our government to fight them. And we have a very good fight. And we have a winning fight. Because they're using our country as a piggy bank to rebuild China, and many other countries are doing the same thing. So we're losing our good jobs, so m...   \n",
       "11  We cannot let it happen. Under my plan, I'll be reducing taxes tremendously, from 35 percent to 15 percent for companies, small and big businesses. That's going to be a job creator like we haven't seen since Ronald Reagan. It's going to be a beautiful thing to watch. Companies will come. They will build. They will expand. New companies will start. And I look very, very much forward to doing it. We have to renegotiate our trade deals, and we have to stop these countries from stealing our comp...   \n",
       "13  Well, I think that trade is an important issue. Of course, we are 5 percent of the world's population; we have to trade with the other 95 percent. And we need to have smart, fair trade deals. We also, though, need to have a tax system that rewards work and not just financial transactions. And the kind of plan that Donald has put forth would be trickle-down economics all over again. In fact, it would be the most extreme version, the biggest tax cuts for the top percent of the people in this c...   \n",
       "15  Well, for one thing -- and before we start on that -- my father gave me a very small loan in 1975, and I built it into a company that's worth many, many billions of dollars, with some of the greatest assets in the world, and I say that only because that's the kind of thinking that our country needs. Our country's in deep trouble. We don't know what we're doing when it comes to devaluations and all of these countries all over the world, especially China. They're the best, the best ever at it....   \n",
       "17                                                                                                                                                                           Secretary Clinton and others, politicians, should have been doing this for years, not right now, because of the fact that we've created a movement. They should have been doing this for years. What's happened to our jobs and our country and our economy generally is -- look, we owe $20 trillion. We cannot do it any longer, Lester.   \n",
       "19  Well, the first thing you do is don't let the jobs leave. The companies are leaving. I could name, I mean, there are thousands of them. They're leaving, and they're leaving in bigger numbers than ever. And what you do is you say, fine, you want to go to Mexico or some other country, good luck. We wish you a lot of luck. But if you think you're going to make your air conditioners or your cars or your cookies or whatever you make and bring them into our country without a tax, you're wrong. And...   \n",
       "21  Well, let's stop for a second and remember where we were eight years ago. We had the worst financial crisis, the Great Recession, the worst since the 1930s. That was in large part because of tax policies that slashed taxes on the wealthy, failed to invest in the middle class, took their eyes off of Wall Street, and created a perfect storm. In fact, Donald was one of the people who rooted for the housing crisis. He said, back in 2006, \"Gee, I hope it does collapse, because then I can go in an...   \n",
       "22                                                                                                                                                                                                                                                                                                                                                                                                                                                                                  That's called business, by the way.   \n",
       "23  Nine million people -- nine million people lost their jobs. Five million people lost their homes. And $13 trillion in family wealth was wiped out. Now, we have come back from that abyss. And it has not been easy. So we're now on the precipice of having a potentially much better economy, but the last thing we need to do is to go back to the policies that failed us in the first place. Independent experts have looked at what I've proposed and looked at what Donald's proposed, and basically they...   \n",
       "24                                                                                                                                                                                                                                                                                                                                                                                                                                                                             I did not. I did not. I do not say that.   \n",
       "25                                                                                                                                                                                                                                                                                                                                                                                                                                                                                             I think science is real.   \n",
       "26                                                                                                                                                                                                                                                                                                                                                                                                                                                                                                   I do not say that.   \n",
       "27  And I think it's important that we grip this and deal with it, both at home and abroad. And here's what we can do. We can deploy a half a billion more solar panels. We can have enough clean energy to power every home. We can build a new modern electric grid. That's a lot of jobs; that's a lot of new economic activity. So I've tried to be very specific about what we can and should do, and I am determined that we're going to get the economy really moving again, building on the progress we've m...   \n",
       "29  She talks about solar panels. We invested in a solar company, our country. That was a disaster. They lost plenty of money on that one. Now, look, I'm a great believer in all forms of energy, but we're putting a lot of people out of work. Our energy policies are a disaster. Our country is losing so much in terms of energy, in terms of paying off our debt. You can't do what you're looking to do with $20 trillion in debt. The Obama administration, from the time they've come in, is over 230 year...   \n",
       "30                                                                                                                                                                                                                                                                                                                                                                                                                                                                                                    Well, actually...   \n",
       "31                                                                                                                                                                                                                                                                                                                                                                                                                                        I will bring -- excuse me. I will bring back jobs. You can't bring back jobs.   \n",
       "32                                                                                                                                                                                                                                                                                                                                                                                                                                                               Well, actually, I have thought about this quite a bit.   \n",
       "\n",
       "       Date  \\\n",
       "2   9/26/16   \n",
       "7   9/26/16   \n",
       "8   9/26/16   \n",
       "10  9/26/16   \n",
       "11  9/26/16   \n",
       "13  9/26/16   \n",
       "15  9/26/16   \n",
       "17  9/26/16   \n",
       "19  9/26/16   \n",
       "21  9/26/16   \n",
       "22  9/26/16   \n",
       "23  9/26/16   \n",
       "24  9/26/16   \n",
       "25  9/26/16   \n",
       "26  9/26/16   \n",
       "27  9/26/16   \n",
       "29  9/26/16   \n",
       "30  9/26/16   \n",
       "31  9/26/16   \n",
       "32  9/26/16   \n",
       "\n",
       "                                                                                                                                                                                                                                                                                                                                                                                                                                                                                                         processed_text  \n",
       "2                                                                                                                                                                                                                                                                                                                                                                                                                                                                                                               donald.  \n",
       "7   well thank lester thanks hofstra hosting us. central question election really kind country want kind future build together. today granddaughter second birthday think lot. first build economy works everyone top. means need new jobs good jobs rising incomes. want invest you. want invest future. means jobs infrastructure advanced manufacturing innovation technology clean renewable energy small business new jobs come small business. also make economy fairer. starts raising national minimum wage ...  \n",
       "8   also want see companies profit sharing. help create profits able share executives top. want support people struggling balance family work. heard many difficult choices face stresses under. let paid family leave earned sick days. let sure affordable child care debt free college. going it. going wealthy pay fair share close corporate loopholes. finally tonight stage together donald trump donald good you. going debate talking important issues facing country. judge shoulder immense awesome respo...  \n",
       "10  thank lester. jobs fleeing country. going mexico. going many countries. look china country terms making product. devaluing currency nobody government fight them. good fight. winning fight. using country piggy bank rebuild china many countries thing. losing good jobs many them. look happening mexico friend mine builds plants said eighth wonder world. building biggest plants anywhere world sophisticated best plants. united states said much. ford leaving. see small car division leaving. thousan...  \n",
       "11                                                                                                                                                                                          cannot let happen. plan reducing taxes tremendously percent percent companies small big businesses. going job creator like seen since ronald reagan. going beautiful thing watch. companies come. build. expand. new companies start. look much forward it. renegotiate trade deals stop countries stealing companies jobs.  \n",
       "13  well think trade important issue. course percent world population trade percent. need smart fair trade deals. also though need tax system rewards work financial transactions. kind plan donald put forth would trickle economics again. fact would extreme version biggest tax cuts top percent people country ever had. call trumped trickle exactly would be. grow economy. different view best growing economy make investments actually produce jobs rising incomes. think come somewhat different perspect...  \n",
       "15  well one thing start father gave small loan built company worth many many billions dollars greatest assets world say kind thinking country needs. country deep trouble. know comes devaluations countries world especially china. best best ever it. sad thing. that. renegotiate trade deals. lester taking jobs giving incentives things frankly do. let give example mexico. vat tax. different system. sell mexico tax. sell automatic percent approximately. sell tax. defective agreement. defective long ...  \n",
       "17                                                                                                                                                                                                                                                                                                                                                      secretary clinton others politicians years right fact created movement. years. happened jobs country economy generally look owe trillion. cannot longer lester.  \n",
       "19                                                               well first thing let jobs leave. companies leaving. could name mean thousands them. leaving leaving bigger numbers ever. say fine want mexico country good luck. wish lot luck. think going make air conditioners cars cookies whatever make bring country without tax wrong. say going tax coming politicians never special interests special interests want companies leave many cases companies. saying stop leaving. stop leaving. big big factor.  \n",
       "21                                                                                                                                                                                     well let stop second remember eight years ago. worst financial crisis great recession worst since large part tax policies slashed taxes wealthy failed invest middle class took eyes wall street created perfect storm. fact donald one people rooted housing crisis. said back gee hope collapse buy make money. well collapse.  \n",
       "22                                                                                                                                                                                                                                                                                                                                                                                                                                                                                                 called business way.  \n",
       "23  nine million people nine million people lost jobs. five million people lost homes. trillion family wealth wiped out. come back abyss. easy. precipice potentially much better economy last thing need back policies failed first place. independent experts looked proposed looked donald proposed basically said tax plan would blow debt trillion would instances disadvantage middle class families compared wealthy effect would lose million jobs maybe another recession. looked plans said intend get don...  \n",
       "24                                                                                                                                                                                                                                                                                                                                                                                                                                                                                                  not. not. say that.  \n",
       "25                                                                                                                                                                                                                                                                                                                                                                                                                                                                                                  think science real.  \n",
       "26                                                                                                                                                                                                                                                                                                                                                                                                                                                                                                            say that.  \n",
       "27                                                                                                                                                                                   think important grip deal home abroad. do. deploy half billion solar panels. enough clean energy power every home. build new modern electric grid. lot jobs lot new economic activity. tried specific determined going get economy really moving building progress made last eight years never going back got trouble first place.  \n",
       "29  talks solar panels. invested solar company country. disaster. lost plenty money one. look great believer forms energy putting lot people work. energy policies disaster. country losing much terms energy terms paying debt. looking trillion debt. obama administration time come years worth debt topped it. doubled course almost eight years seven half years semi exact. tell this. much better job keeping jobs. much better job giving companies incentives build new companies expand it. look michigan ...  \n",
       "30                                                                                                                                                                                                                                                                                                                                                                                                                                                                                                       well actually.  \n",
       "31                                                                                                                                                                                                                                                                                                                                                                                                                                                                   bring excuse me. bring back jobs. bring back jobs.  \n",
       "32                                                                                                                                                                                                                                                                                                                                                                                                                                                                                     well actually thought quite bit.  "
      ]
     },
     "execution_count": 45,
     "metadata": {},
     "output_type": "execute_result"
    }
   ],
   "source": [
    "pd.set_option('display.max_colwidth', 500)\n",
    "df_new.head(20)"
   ]
  },
  {
   "cell_type": "code",
   "execution_count": 61,
   "metadata": {},
   "outputs": [],
   "source": [
    "big_text = []\n",
    "for name, text in zip(df_new.Speaker, df_new.processed_text):\n",
    "    sents = [x for x in text.split('.') if x]\n",
    "    if len(sents) > 1:\n",
    "        for sent in sents:\n",
    "            big_text.append([name, sent])\n",
    "df_sent = pd.DataFrame(big_text, columns = ['name', 'text'])"
   ]
  },
  {
   "cell_type": "code",
   "execution_count": 62,
   "metadata": {},
   "outputs": [
    {
     "data": {
      "text/plain": [
       "(2980, 2)"
      ]
     },
     "execution_count": 62,
     "metadata": {},
     "output_type": "execute_result"
    }
   ],
   "source": [
    "df_sent.shape"
   ]
  },
  {
   "cell_type": "code",
   "execution_count": 63,
   "metadata": {},
   "outputs": [
    {
     "data": {
      "text/html": [
       "<div>\n",
       "<style scoped>\n",
       "    .dataframe tbody tr th:only-of-type {\n",
       "        vertical-align: middle;\n",
       "    }\n",
       "\n",
       "    .dataframe tbody tr th {\n",
       "        vertical-align: top;\n",
       "    }\n",
       "\n",
       "    .dataframe thead th {\n",
       "        text-align: right;\n",
       "    }\n",
       "</style>\n",
       "<table border=\"1\" class=\"dataframe\">\n",
       "  <thead>\n",
       "    <tr style=\"text-align: right;\">\n",
       "      <th></th>\n",
       "      <th>name</th>\n",
       "      <th>text</th>\n",
       "    </tr>\n",
       "  </thead>\n",
       "  <tbody>\n",
       "    <tr>\n",
       "      <th>0</th>\n",
       "      <td>Clinton</td>\n",
       "      <td>well thank lester thanks hofstra hosting us</td>\n",
       "    </tr>\n",
       "    <tr>\n",
       "      <th>1</th>\n",
       "      <td>Clinton</td>\n",
       "      <td>central question election really kind country want kind future build together</td>\n",
       "    </tr>\n",
       "    <tr>\n",
       "      <th>2</th>\n",
       "      <td>Clinton</td>\n",
       "      <td>today granddaughter second birthday think lot</td>\n",
       "    </tr>\n",
       "    <tr>\n",
       "      <th>3</th>\n",
       "      <td>Clinton</td>\n",
       "      <td>first build economy works everyone top</td>\n",
       "    </tr>\n",
       "    <tr>\n",
       "      <th>4</th>\n",
       "      <td>Clinton</td>\n",
       "      <td>means need new jobs good jobs rising incomes</td>\n",
       "    </tr>\n",
       "    <tr>\n",
       "      <th>5</th>\n",
       "      <td>Clinton</td>\n",
       "      <td>want invest you</td>\n",
       "    </tr>\n",
       "    <tr>\n",
       "      <th>6</th>\n",
       "      <td>Clinton</td>\n",
       "      <td>want invest future</td>\n",
       "    </tr>\n",
       "    <tr>\n",
       "      <th>7</th>\n",
       "      <td>Clinton</td>\n",
       "      <td>means jobs infrastructure advanced manufacturing innovation technology clean renewable energy small business new jobs come small business</td>\n",
       "    </tr>\n",
       "    <tr>\n",
       "      <th>8</th>\n",
       "      <td>Clinton</td>\n",
       "      <td>also make economy fairer</td>\n",
       "    </tr>\n",
       "    <tr>\n",
       "      <th>9</th>\n",
       "      <td>Clinton</td>\n",
       "      <td>starts raising national minimum wage also guarantee finally equal pay women work</td>\n",
       "    </tr>\n",
       "  </tbody>\n",
       "</table>\n",
       "</div>"
      ],
      "text/plain": [
       "      name  \\\n",
       "0  Clinton   \n",
       "1  Clinton   \n",
       "2  Clinton   \n",
       "3  Clinton   \n",
       "4  Clinton   \n",
       "5  Clinton   \n",
       "6  Clinton   \n",
       "7  Clinton   \n",
       "8  Clinton   \n",
       "9  Clinton   \n",
       "\n",
       "                                                                                                                                         text  \n",
       "0                                                                                                 well thank lester thanks hofstra hosting us  \n",
       "1                                                               central question election really kind country want kind future build together  \n",
       "2                                                                                               today granddaughter second birthday think lot  \n",
       "3                                                                                                      first build economy works everyone top  \n",
       "4                                                                                                means need new jobs good jobs rising incomes  \n",
       "5                                                                                                                             want invest you  \n",
       "6                                                                                                                          want invest future  \n",
       "7   means jobs infrastructure advanced manufacturing innovation technology clean renewable energy small business new jobs come small business  \n",
       "8                                                                                                                    also make economy fairer  \n",
       "9                                                            starts raising national minimum wage also guarantee finally equal pay women work  "
      ]
     },
     "execution_count": 63,
     "metadata": {},
     "output_type": "execute_result"
    }
   ],
   "source": [
    "df_sent.head(10)"
   ]
  },
  {
   "cell_type": "markdown",
   "metadata": {},
   "source": [
    "### Data modeling for text"
   ]
  },
  {
   "cell_type": "code",
   "execution_count": 59,
   "metadata": {},
   "outputs": [],
   "source": [
    "import py2neo\n",
    "from py2neo import Graph"
   ]
  },
  {
   "cell_type": "code",
   "execution_count": 55,
   "metadata": {},
   "outputs": [
    {
     "data": {
      "image/png": "[encoded data removed]",
      "text/plain": [
       "<IPython.core.display.Image object>"
      ]
     },
     "execution_count": 55,
     "metadata": {
      "image/png": {
       "height": 300,
       "width": 500
      }
     },
     "output_type": "execute_result"
    }
   ],
   "source": [
    "from IPython.display import Image\n",
    "from IPython.core.display import HTML \n",
    "Image(filename= \"./images/text_model_for_neo4j.png\", width = 500, height=300)"
   ]
  },
  {
   "cell_type": "code",
   "execution_count": 86,
   "metadata": {},
   "outputs": [],
   "source": [
    "CREATE_MODEL = '''\n",
    "CREATE \n",
    "  (`0` :Word ) ,\n",
    "  (`1` :Word ) ,\n",
    "  (`3` :Speaker ) ,\n",
    "  (`0`)-[:`NEXT_WORD` ]->(`1`),\n",
    "  (`0`)-[:`MENTIONED_BY` ]->(`3`),\n",
    "  (`1`)-[:`MENTIONED_BY` ]->(`3`)\n",
    "'''\n",
    "\n",
    "DELETE_EXISTING_DATA = '''MATCH (n) DETACH DELETE n'''\n",
    "CREATE_SPEAKER_CONSTRAINT = '''CREATE CONSTRAINT ON (S:Speaker) ASSERT S.name IS UNIQUE;'''\n",
    "CREATE_WORD_CONSTRAINT = '''CREATE CONSTRAINT ON (W:Word) ASSERT W.name IS UNIQUE;'''\n",
    "\n",
    "INSERT_DATA = '''\n",
    "WITH split({sentence}, \" \") as words\n",
    "unwind range(0,size(words)-2) as idx\n",
    "\n",
    "MERGE (S:Speaker {name: {speaker}})\n",
    "  ON CREATE SET S.count = 1 \n",
    "  ON MATCH SET S.count = S.count +1\n",
    "\n",
    "MERGE (w1:Word {name:words[idx]})\n",
    "  ON CREATE SET w1.count = 1\n",
    "  ON MATCH SET w1.count =  1 + w1.count\n",
    "\n",
    "MERGE (w2:Word {name:words[idx+1]})\n",
    "  ON CREATE SET w2.count = 1\n",
    "  ON MATCH SET w2.count =  1 + (case when idx = size(words)-2 then 1 else 0 end)\n",
    "\n",
    "MERGE (w1)-[NW:NEXT_WORD]->(w2)\n",
    "  ON CREATE SET NW.count = 1 \n",
    "  ON MATCH SET NW.count = NW.count +1\n",
    "\n",
    "MERGE (w1)-[M:MENTIONED_BY]->(S)\n",
    "  ON CREATE SET M.count = 1\n",
    "  ON MATCH SET M.count = M.count +1\n",
    "'''"
   ]
  },
  {
   "cell_type": "markdown",
   "metadata": {},
   "source": [
    "### Export Data to Ne04j"
   ]
  },
  {
   "cell_type": "code",
   "execution_count": 87,
   "metadata": {},
   "outputs": [],
   "source": [
    "import getpass\n",
    "password = getpass.getpass(\"Password: \")"
   ]
  },
  {
   "cell_type": "code",
   "execution_count": 94,
   "metadata": {},
   "outputs": [],
   "source": [
    "graph = Graph(\"bolt://localhost:7687\", auth = (\"neo4j\", password))"
   ]
  },
  {
   "cell_type": "code",
   "execution_count": 95,
   "metadata": {},
   "outputs": [],
   "source": [
    "graph.delete_all()"
   ]
  },
  {
   "cell_type": "code",
   "execution_count": 90,
   "metadata": {},
   "outputs": [
    {
     "data": {
      "text/plain": [
       "<py2neo.database.Cursor at 0x11f5541d0>"
      ]
     },
     "execution_count": 90,
     "metadata": {},
     "output_type": "execute_result"
    }
   ],
   "source": [
    "graph.run(DELETE_EXISTING_DATA)"
   ]
  },
  {
   "cell_type": "code",
   "execution_count": 91,
   "metadata": {},
   "outputs": [
    {
     "data": {
      "text/plain": [
       "<py2neo.database.Cursor at 0x11f554470>"
      ]
     },
     "execution_count": 91,
     "metadata": {},
     "output_type": "execute_result"
    }
   ],
   "source": [
    "# graph.run(CREATE_MODEL)"
   ]
  },
  {
   "cell_type": "code",
   "execution_count": 96,
   "metadata": {},
   "outputs": [
    {
     "data": {
      "text/plain": [
       "<py2neo.database.Cursor at 0x11f5546a0>"
      ]
     },
     "execution_count": 96,
     "metadata": {},
     "output_type": "execute_result"
    }
   ],
   "source": [
    "graph.run(CREATE_SPEAKER_CONSTRAINT)\n",
    "graph.run(CREATE_WORD_CONSTRAINT)"
   ]
  },
  {
   "cell_type": "code",
   "execution_count": 97,
   "metadata": {},
   "outputs": [],
   "source": [
    "for sentence, speaker in zip(df_sent['text'], df_sent['name']):\n",
    "    graph.run(INSERT_DATA, parameters = {'sentence': sentence, 'speaker': speaker})"
   ]
  },
  {
   "cell_type": "markdown",
   "metadata": {},
   "source": [
    "### Graph analysis"
   ]
  },
  {
   "cell_type": "code",
   "execution_count": 109,
   "metadata": {},
   "outputs": [
    {
     "ename": "DeprecationWarning",
     "evalue": "To avoid name collision with the igraph project, this visualization library has been renamed to 'jgraph'. Please upgrade when convenient.",
     "output_type": "error",
     "traceback": [
      "\u001b[0;31m---------------------------------------------------------------------------\u001b[0m",
      "\u001b[0;31mDeprecationWarning\u001b[0m                        Traceback (most recent call last)",
      "\u001b[0;32m<ipython-input-109-74e9099e501d>\u001b[0m in \u001b[0;36m<module>\u001b[0;34m()\u001b[0m\n\u001b[0;32m----> 1\u001b[0;31m \u001b[0;32mimport\u001b[0m \u001b[0migraph\u001b[0m \u001b[0;32mas\u001b[0m \u001b[0mig\u001b[0m\u001b[0;34m\u001b[0m\u001b[0m\n\u001b[0m",
      "\u001b[0;32m~/anaconda3/lib/python3.6/site-packages/igraph/__init__.py\u001b[0m in \u001b[0;36m<module>\u001b[0;34m()\u001b[0m\n\u001b[1;32m      6\u001b[0m \u001b[0m__license__\u001b[0m \u001b[0;34m=\u001b[0m \u001b[0;34m\"MIT\"\u001b[0m\u001b[0;34m\u001b[0m\u001b[0m\n\u001b[1;32m      7\u001b[0m \u001b[0;34m\u001b[0m\u001b[0m\n\u001b[0;32m----> 8\u001b[0;31m raise DeprecationWarning(\"To avoid name collision with the igraph project, \"\n\u001b[0m\u001b[1;32m      9\u001b[0m                          \u001b[0;34m\"this visualization library has been renamed to \"\u001b[0m\u001b[0;34m\u001b[0m\u001b[0m\n\u001b[1;32m     10\u001b[0m                          \"'jgraph'. Please upgrade when convenient.\")\n",
      "\u001b[0;31mDeprecationWarning\u001b[0m: To avoid name collision with the igraph project, this visualization library has been renamed to 'jgraph'. Please upgrade when convenient."
     ]
    }
   ],
   "source": [
    "import igraph as ig"
   ]
  },
  {
   "cell_type": "code",
   "execution_count": null,
   "metadata": {},
   "outputs": [],
   "source": []
  },
  {
   "cell_type": "code",
   "execution_count": null,
   "metadata": {},
   "outputs": [],
   "source": []
  },
  {
   "cell_type": "code",
   "execution_count": null,
   "metadata": {},
   "outputs": [],
   "source": []
  },
  {
   "cell_type": "code",
   "execution_count": null,
   "metadata": {},
   "outputs": [],
   "source": []
  },
  {
   "cell_type": "code",
   "execution_count": null,
   "metadata": {},
   "outputs": [],
   "source": []
  },
  {
   "cell_type": "code",
   "execution_count": null,
   "metadata": {},
   "outputs": [],
   "source": []
  }
 ],
 "metadata": {
  "kernelspec": {
   "display_name": "Python 3",
   "language": "python",
   "name": "python3"
  },
  "language_info": {
   "codemirror_mode": {
    "name": "ipython",
    "version": 3
   },
   "file_extension": ".py",
   "mimetype": "text/x-python",
   "name": "python",
   "nbconvert_exporter": "python",
   "pygments_lexer": "ipython3",
   "version": "3.6.5"
  }
 },
 "nbformat": 4,
 "nbformat_minor": 2
}
